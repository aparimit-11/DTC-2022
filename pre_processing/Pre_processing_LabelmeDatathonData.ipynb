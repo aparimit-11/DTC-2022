{
  "nbformat": 4,
  "nbformat_minor": 0,
  "metadata": {
    "colab": {
      "name": "Pre_processing_LabelmeDatathonData.ipynb",
      "provenance": []
    },
    "kernelspec": {
      "name": "python3",
      "display_name": "Python 3"
    },
    "language_info": {
      "name": "python"
    }
  },
  "cells": [
    {
      "cell_type": "markdown",
      "source": [
        ""
      ],
      "metadata": {
        "id": "Y5lT3YhxXGS8"
      }
    },
    {
      "cell_type": "code",
      "source": [
        "!pip install py7zr"
      ],
      "metadata": {
        "colab": {
          "base_uri": "https://localhost:8080/"
        },
        "id": "K8g7cQ3FbHVt",
        "outputId": "8fdab487-62e6-4e84-f3cb-f8a6d1471ba9"
      },
      "execution_count": null,
      "outputs": [
        {
          "output_type": "stream",
          "name": "stdout",
          "text": [
            "Looking in indexes: https://pypi.org/simple, https://us-python.pkg.dev/colab-wheels/public/simple/\n",
            "Collecting py7zr\n",
            "  Downloading py7zr-0.18.9.tar.gz (4.9 MB)\n",
            "\u001b[K     |████████████████████████████████| 4.9 MB 14.1 MB/s \n",
            "\u001b[?25h  Installing build dependencies ... \u001b[?25l\u001b[?25hdone\n",
            "  Getting requirements to build wheel ... \u001b[?25l\u001b[?25hdone\n",
            "    Preparing wheel metadata ... \u001b[?25l\u001b[?25hdone\n",
            "Collecting multivolumefile>=0.2.3\n",
            "  Downloading multivolumefile-0.2.3-py3-none-any.whl (17 kB)\n",
            "Collecting pyzstd>=0.14.4\n",
            "  Downloading pyzstd-0.15.2-cp37-cp37m-manylinux_2_17_x86_64.manylinux2014_x86_64.whl (2.4 MB)\n",
            "\u001b[K     |████████████████████████████████| 2.4 MB 52.9 MB/s \n",
            "\u001b[?25hCollecting zipfile-deflate64>=0.2.0\n",
            "  Downloading zipfile_deflate64-0.2.0-cp37-cp37m-manylinux_2_17_x86_64.manylinux2014_x86_64.whl (43 kB)\n",
            "\u001b[K     |████████████████████████████████| 43 kB 2.1 MB/s \n",
            "\u001b[?25hCollecting pyppmd<0.19.0,>=0.18.1\n",
            "  Downloading pyppmd-0.18.2-cp37-cp37m-manylinux_2_17_x86_64.manylinux2014_x86_64.whl (131 kB)\n",
            "\u001b[K     |████████████████████████████████| 131 kB 51.9 MB/s \n",
            "\u001b[?25hCollecting pybcj>=0.6.0\n",
            "  Downloading pybcj-0.6.0-cp37-cp37m-manylinux_2_17_x86_64.manylinux2014_x86_64.whl (59 kB)\n",
            "\u001b[K     |████████████████████████████████| 59 kB 7.2 MB/s \n",
            "\u001b[?25hCollecting brotli>=1.0.9\n",
            "  Downloading Brotli-1.0.9-cp37-cp37m-manylinux1_x86_64.whl (357 kB)\n",
            "\u001b[K     |████████████████████████████████| 357 kB 61.3 MB/s \n",
            "\u001b[?25hRequirement already satisfied: importlib-metadata in /usr/local/lib/python3.7/dist-packages (from py7zr) (4.11.4)\n",
            "Collecting texttable\n",
            "  Downloading texttable-1.6.4-py2.py3-none-any.whl (10 kB)\n",
            "Collecting pycryptodomex>=3.6.6\n",
            "  Downloading pycryptodomex-3.15.0-cp35-abi3-manylinux2010_x86_64.whl (2.3 MB)\n",
            "\u001b[K     |████████████████████████████████| 2.3 MB 51.9 MB/s \n",
            "\u001b[?25hRequirement already satisfied: psutil in /usr/local/lib/python3.7/dist-packages (from py7zr) (5.4.8)\n",
            "Requirement already satisfied: zipp>=0.5 in /usr/local/lib/python3.7/dist-packages (from importlib-metadata->py7zr) (3.8.0)\n",
            "Requirement already satisfied: typing-extensions>=3.6.4 in /usr/local/lib/python3.7/dist-packages (from importlib-metadata->py7zr) (4.1.1)\n",
            "Building wheels for collected packages: py7zr\n",
            "  Building wheel for py7zr (PEP 517) ... \u001b[?25l\u001b[?25hdone\n",
            "  Created wheel for py7zr: filename=py7zr-0.18.9-py3-none-any.whl size=67806 sha256=b4b0cf933d5a18018bffc2fd3ae8d6b50f115646f84128e588fad130029de22d\n",
            "  Stored in directory: /root/.cache/pip/wheels/a7/ce/25/7181dbeffbdb3d6b97a37f02deafdddcaa7ec6d5a5c7b0cabc\n",
            "Successfully built py7zr\n",
            "Installing collected packages: zipfile-deflate64, texttable, pyzstd, pyppmd, pycryptodomex, pybcj, multivolumefile, brotli, py7zr\n",
            "Successfully installed brotli-1.0.9 multivolumefile-0.2.3 py7zr-0.18.9 pybcj-0.6.0 pycryptodomex-3.15.0 pyppmd-0.18.2 pyzstd-0.15.2 texttable-1.6.4 zipfile-deflate64-0.2.0\n"
          ]
        }
      ]
    },
    {
      "cell_type": "code",
      "execution_count": null,
      "metadata": {
        "id": "3cDs8t6wVtgj"
      },
      "outputs": [],
      "source": [
        "import py7zr\n",
        "import os\n",
        "import PIL\n",
        "import PIL.Image\n",
        "from PIL import Image\n",
        "from glob import glob\n",
        "import cv2\n",
        "import numpy as np\n",
        "import tensorflow as tf\n",
        "from tqdm import tqdm"
      ]
    },
    {
      "cell_type": "code",
      "source": [
        "#archive = py7zr.SevenZipFile('/content/annotations_norebars_Pdataset.7z', mode='r')\n",
        "#archive.extractall()\n",
        "\n",
        "archive1 = py7zr.SevenZipFile('/content/rebars_annotations.7z', mode='r')\n",
        "archive1.extractall()"
      ],
      "metadata": {
        "id": "faDhcZI9XNLb"
      },
      "execution_count": null,
      "outputs": []
    },
    {
      "cell_type": "markdown",
      "source": [
        "#Checking what are the unique pixel values from this batch of annotations"
      ],
      "metadata": {
        "id": "a3OHfEf9d0n_"
      }
    },
    {
      "cell_type": "code",
      "source": [
        "masks = sorted(glob(os.path.join(\"/content/annotations/*\")))\n",
        "unique_pix = []\n",
        "\n",
        "for i in masks:\n",
        "  H = 256\n",
        "  W = 256\n",
        "  #msk = cv2.imread(i, 0)\n",
        "  msk = Image.open(i)\n",
        "  #msk = cv2.resize(msk, (W, H))\n",
        "  #train_masks.append(msk)\n",
        "  print('Unique class values for : ', i, 'is', np.unique(msk))\n",
        "  unique_pix.append(np.unique(msk))\n",
        "\n",
        "#print(np.unique(unique_pix))"
      ],
      "metadata": {
        "colab": {
          "base_uri": "https://localhost:8080/"
        },
        "id": "Rop6qL4bcNM7",
        "outputId": "cf8a2a48-980a-421d-f28e-df9f45ce8d69"
      },
      "execution_count": null,
      "outputs": [
        {
          "output_type": "stream",
          "name": "stdout",
          "text": [
            "Unique class values for :  /content/annotations/S_bricks_0.png is [0 1]\n",
            "Unique class values for :  /content/annotations/S_bricks_1.png is [0 1]\n",
            "Unique class values for :  /content/annotations/S_bricks_10.png is [0 1]\n",
            "Unique class values for :  /content/annotations/S_bricks_11.png is [0 1]\n",
            "Unique class values for :  /content/annotations/S_bricks_12.png is [0 1]\n",
            "Unique class values for :  /content/annotations/S_bricks_13.png is [0 1]\n",
            "Unique class values for :  /content/annotations/S_bricks_14.png is [0 1]\n",
            "Unique class values for :  /content/annotations/S_bricks_2.png is [0 1]\n",
            "Unique class values for :  /content/annotations/S_bricks_3.png is [0 1]\n",
            "Unique class values for :  /content/annotations/S_bricks_4.png is [0 1]\n",
            "Unique class values for :  /content/annotations/S_bricks_5.png is [0 1]\n",
            "Unique class values for :  /content/annotations/S_bricks_6.png is [0 1]\n",
            "Unique class values for :  /content/annotations/S_bricks_7.png is [0 1]\n",
            "Unique class values for :  /content/annotations/S_bricks_8.png is [0 1]\n",
            "Unique class values for :  /content/annotations/S_bricks_9.png is [0 1]\n"
          ]
        }
      ]
    },
    {
      "cell_type": "markdown",
      "source": [
        "#Function for transforming pixels in the masks"
      ],
      "metadata": {
        "id": "6Yu6R6GXnp2X"
      }
    },
    {
      "cell_type": "code",
      "source": [
        "def mask_transform(path, classpix):\n",
        "    mask = Image.open(path)\n",
        "    name = path.split(\"/\")[-1].split(\".\")[0]\n",
        "    w, h = mask.size\n",
        "    newmask = Image.new('L', (w, h))\n",
        "    #newmask = Image.new()\n",
        "    class_pix = 0 \n",
        "    background_pix = 0\n",
        "    for i in range(w):\n",
        "      for j in range(h):\n",
        "        current_color = mask.getpixel( (i,j) )\n",
        "        #new_color = current_color\n",
        "        ####################################################################\n",
        "        # Creating a new (R,G,B) tuple called new_color\n",
        "        if current_color == 1: #label created in labelme\n",
        "          new_color = classpix #pvc pipes = 1; cement = 2; bricks = 3; plastic wire = 4; rebars = 5\n",
        "          class_pix = class_pix + 1 \n",
        "        elif current_color == 0:\n",
        "          new_color = 0\n",
        "          background_pix = background_pix + 1\n",
        "        #elif current_color == 2:\n",
        "        #  new_color = 2\n",
        "        newmask.putpixel((i, j), new_color)\n",
        "    if os.path.exists(\"/content/fixed_annotations\"):\n",
        "        pass\n",
        "    else:\n",
        "        os.makedirs(\"/content/fixed_annotations\")\n",
        "    save_path = f\"/content/fixed_annotations/{name}.png\"\n",
        "    newmask.save(save_path)\n",
        "    print(\"Number of pixels for class : \", class_pix)\n",
        "    print(\"Number of pixels for background : \", background_pix)\n",
        "    return newmask"
      ],
      "metadata": {
        "id": "6G5MOpOD0tLt"
      },
      "execution_count": null,
      "outputs": []
    },
    {
      "cell_type": "markdown",
      "source": [
        "#Executing mask_transform"
      ],
      "metadata": {
        "id": "lFJxKr5TqOT5"
      }
    },
    {
      "cell_type": "code",
      "source": [
        "if __name__ == \"__main__\":\n",
        "    \"\"\" Seeding \"\"\"\n",
        "    #np.random.seed(42)\n",
        "    #tf.random.set_seed(42)\n",
        "\n",
        "    \"\"\" Load Images \"\"\"\n",
        "    test_images = glob(\"/content/annotations/*.png\")\n",
        "    print(f\"Annotation Images: {len(test_images)}\")\n",
        "\n",
        "    classpix = 3 #pvc pipes = 1; cement = 2; bricks = 3; plastic wire = 4; rebars = 5\n",
        "\n",
        "    #time_taken = []\n",
        "    for path in tqdm(test_images, total=len(test_images)):\n",
        "        \"\"\" Extract the name \"\"\"\n",
        "        #name = path.split(\"/\")[-1].split(\".\")[0]\n",
        "        \"\"\" Transform existing masks\"\"\"\n",
        "        mask_transform(path, classpix)\n",
        "\n",
        "modified_masks = glob(\"fixed_annotations/*.png\")\n",
        "print(f\"Modified Images: {len(modified_masks)}\")\n",
        "\n",
        "print(\"Class values in the dataset are ... \", np.unique(modified_masks))\n"
      ],
      "metadata": {
        "colab": {
          "base_uri": "https://localhost:8080/"
        },
        "id": "0LSOIwyX4EIG",
        "outputId": "46ddb50c-1848-4ab7-eed9-590f34e4b227"
      },
      "execution_count": null,
      "outputs": [
        {
          "output_type": "stream",
          "name": "stdout",
          "text": [
            "Annotation Images: 15\n"
          ]
        },
        {
          "output_type": "stream",
          "name": "stderr",
          "text": [
            "  7%|▋         | 1/15 [00:01<00:18,  1.33s/it]"
          ]
        },
        {
          "output_type": "stream",
          "name": "stdout",
          "text": [
            "Number of pixels for class :  289454\n",
            "Number of pixels for background :  285716\n"
          ]
        },
        {
          "output_type": "stream",
          "name": "stderr",
          "text": [
            "\r 13%|█▎        | 2/15 [00:02<00:18,  1.46s/it]"
          ]
        },
        {
          "output_type": "stream",
          "name": "stdout",
          "text": [
            "Number of pixels for class :  359383\n",
            "Number of pixels for background :  330341\n"
          ]
        },
        {
          "output_type": "stream",
          "name": "stderr",
          "text": [
            "\r 20%|██        | 3/15 [00:03<00:14,  1.25s/it]"
          ]
        },
        {
          "output_type": "stream",
          "name": "stdout",
          "text": [
            "Number of pixels for class :  243662\n",
            "Number of pixels for background :  181918\n"
          ]
        },
        {
          "output_type": "stream",
          "name": "stderr",
          "text": [
            "\r 27%|██▋       | 4/15 [00:05<00:13,  1.23s/it]"
          ]
        },
        {
          "output_type": "stream",
          "name": "stdout",
          "text": [
            "Number of pixels for class :  295580\n",
            "Number of pixels for background :  228400\n"
          ]
        },
        {
          "output_type": "stream",
          "name": "stderr",
          "text": [
            "\r 33%|███▎      | 5/15 [00:06<00:12,  1.20s/it]"
          ]
        },
        {
          "output_type": "stream",
          "name": "stdout",
          "text": [
            "Number of pixels for class :  272803\n",
            "Number of pixels for background :  233619\n"
          ]
        },
        {
          "output_type": "stream",
          "name": "stderr",
          "text": [
            "\r 40%|████      | 6/15 [00:07<00:11,  1.25s/it]"
          ]
        },
        {
          "output_type": "stream",
          "name": "stdout",
          "text": [
            "Number of pixels for class :  309868\n",
            "Number of pixels for background :  281150\n"
          ]
        },
        {
          "output_type": "stream",
          "name": "stderr",
          "text": [
            "\r 47%|████▋     | 7/15 [00:08<00:09,  1.14s/it]"
          ]
        },
        {
          "output_type": "stream",
          "name": "stdout",
          "text": [
            "Number of pixels for class :  229441\n",
            "Number of pixels for background :  178917\n"
          ]
        },
        {
          "output_type": "stream",
          "name": "stderr",
          "text": [
            "\r 53%|█████▎    | 8/15 [00:10<00:09,  1.30s/it]"
          ]
        },
        {
          "output_type": "stream",
          "name": "stdout",
          "text": [
            "Number of pixels for class :  380219\n",
            "Number of pixels for background :  338091\n"
          ]
        },
        {
          "output_type": "stream",
          "name": "stderr",
          "text": [
            "\r 60%|██████    | 9/15 [00:11<00:08,  1.34s/it]"
          ]
        },
        {
          "output_type": "stream",
          "name": "stdout",
          "text": [
            "Number of pixels for class :  319836\n",
            "Number of pixels for background :  298449\n"
          ]
        },
        {
          "output_type": "stream",
          "name": "stderr",
          "text": [
            "\r 67%|██████▋   | 10/15 [00:12<00:06,  1.36s/it]"
          ]
        },
        {
          "output_type": "stream",
          "name": "stdout",
          "text": [
            "Number of pixels for class :  312837\n",
            "Number of pixels for background :  300775\n"
          ]
        },
        {
          "output_type": "stream",
          "name": "stderr",
          "text": [
            "\r 73%|███████▎  | 11/15 [00:13<00:04,  1.22s/it]"
          ]
        },
        {
          "output_type": "stream",
          "name": "stdout",
          "text": [
            "Number of pixels for class :  234111\n",
            "Number of pixels for background :  158913\n"
          ]
        },
        {
          "output_type": "stream",
          "name": "stderr",
          "text": [
            "\r 80%|████████  | 12/15 [00:15<00:03,  1.21s/it]"
          ]
        },
        {
          "output_type": "stream",
          "name": "stdout",
          "text": [
            "Number of pixels for class :  280432\n",
            "Number of pixels for background :  234170\n"
          ]
        },
        {
          "output_type": "stream",
          "name": "stderr",
          "text": [
            "\r 87%|████████▋ | 13/15 [00:16<00:02,  1.14s/it]"
          ]
        },
        {
          "output_type": "stream",
          "name": "stdout",
          "text": [
            "Number of pixels for class :  247869\n",
            "Number of pixels for background :  178983\n"
          ]
        },
        {
          "output_type": "stream",
          "name": "stderr",
          "text": [
            "\r 93%|█████████▎| 14/15 [00:17<00:01,  1.28s/it]"
          ]
        },
        {
          "output_type": "stream",
          "name": "stdout",
          "text": [
            "Number of pixels for class :  443400\n",
            "Number of pixels for background :  247692\n"
          ]
        },
        {
          "output_type": "stream",
          "name": "stderr",
          "text": [
            "100%|██████████| 15/15 [00:19<00:00,  1.28s/it]"
          ]
        },
        {
          "output_type": "stream",
          "name": "stdout",
          "text": [
            "Number of pixels for class :  327026\n",
            "Number of pixels for background :  340615\n",
            "Modified Images: 15\n",
            "Class values in the dataset are ...  ['fixed_annotations/S_bricks_0.png' 'fixed_annotations/S_bricks_1.png'\n",
            " 'fixed_annotations/S_bricks_10.png' 'fixed_annotations/S_bricks_11.png'\n",
            " 'fixed_annotations/S_bricks_12.png' 'fixed_annotations/S_bricks_13.png'\n",
            " 'fixed_annotations/S_bricks_14.png' 'fixed_annotations/S_bricks_2.png'\n",
            " 'fixed_annotations/S_bricks_3.png' 'fixed_annotations/S_bricks_4.png'\n",
            " 'fixed_annotations/S_bricks_5.png' 'fixed_annotations/S_bricks_6.png'\n",
            " 'fixed_annotations/S_bricks_7.png' 'fixed_annotations/S_bricks_8.png'\n",
            " 'fixed_annotations/S_bricks_9.png']\n"
          ]
        },
        {
          "output_type": "stream",
          "name": "stderr",
          "text": [
            "\n"
          ]
        }
      ]
    },
    {
      "cell_type": "markdown",
      "source": [
        "#Check new unique values"
      ],
      "metadata": {
        "id": "JzjyKx6UufDq"
      }
    },
    {
      "cell_type": "code",
      "source": [
        "new_masks = sorted(glob(os.path.join(\"/content/fixed_annotations/*\")))\n",
        "unique_newpix = []\n",
        "\n",
        "for i in new_masks:\n",
        "  #H = 256\n",
        "  #W = 256\n",
        "  #msk = cv2.imread(i, 0)\n",
        "  msk = Image.open(i)\n",
        "  #msk = cv2.resize(msk, (W, H))\n",
        "  #train_masks.append(msk)\n",
        "  print('Unique class values : ', np.unique(msk))\n",
        "  print('Image size is : ', msk.size)\n",
        "  unique_newpix.append(np.unique(msk))\n",
        "\n",
        "\n",
        "print('Unique values from entire dataset : ', np.unique(unique_newpix))"
      ],
      "metadata": {
        "colab": {
          "base_uri": "https://localhost:8080/"
        },
        "id": "5Q6KqtE1novI",
        "outputId": "b470f124-ea19-4386-d128-d76f7bfdd586"
      },
      "execution_count": null,
      "outputs": [
        {
          "output_type": "stream",
          "name": "stdout",
          "text": [
            "Unique class values :  [0 3]\n",
            "Image size is :  (972, 711)\n",
            "Unique class values :  [0 3]\n",
            "Image size is :  (1186, 427)\n",
            "Unique class values :  [0 3]\n",
            "Image size is :  (852, 615)\n",
            "Unique class values :  [0 3]\n",
            "Image size is :  (1069, 382)\n",
            "Unique class values :  [0 3]\n",
            "Image size is :  (1018, 565)\n",
            "Unique class values :  [0 3]\n",
            "Image size is :  (969, 689)\n",
            "Unique class values :  [0 3]\n",
            "Image size is :  (877, 705)\n",
            "Unique class values :  [0 3]\n",
            "Image size is :  (865, 492)\n",
            "Unique class values :  [0 3]\n",
            "Image size is :  (852, 501)\n",
            "Unique class values :  [0 3]\n",
            "Image size is :  (1068, 368)\n",
            "Unique class values :  [0 3]\n",
            "Image size is :  (1017, 506)\n",
            "Unique class values :  [0 3]\n",
            "Image size is :  (822, 719)\n",
            "Unique class values :  [0 3]\n",
            "Image size is :  (1071, 644)\n",
            "Unique class values :  [0 3]\n",
            "Image size is :  (857, 716)\n",
            "Unique class values :  [0 3]\n",
            "Image size is :  (1090, 659)\n",
            "Unique values from entire dataset :  [0 3]\n"
          ]
        }
      ]
    },
    {
      "cell_type": "code",
      "source": [
        "with py7zr.SevenZipFile('/content/fixed_annotations.7z', 'w') as archive:\n",
        "    archive.writeall('/content/fixed_annotations/')"
      ],
      "metadata": {
        "id": "FBQel9GdE2vo"
      },
      "execution_count": null,
      "outputs": []
    }
  ]
}